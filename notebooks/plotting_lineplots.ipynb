{
 "cells": [
  {
   "cell_type": "code",
   "execution_count": 1,
   "id": "f5a7f567-72ab-4172-ae53-246fba4407c9",
   "metadata": {},
   "outputs": [
    {
     "data": {
      "application/vnd.jupyter.widget-view+json": {
       "model_id": "9e4e8cf837d14d6e954f2443afcf2ded",
       "version_major": 2,
       "version_minor": 0
      },
      "text/plain": [
       "Fetching 2 files:   0%|          | 0/2 [00:00<?, ?it/s]"
      ]
     },
     "metadata": {},
     "output_type": "display_data"
    },
    {
     "data": {
      "text/plain": [
       "'/cos'"
      ]
     },
     "execution_count": 1,
     "metadata": {},
     "output_type": "execute_result"
    }
   ],
   "source": [
    "from huggingface_hub import snapshot_download\n",
    "snapshot_download(\n",
    "    repo_id=\"amphora/pythia-12b-weights\", \n",
    "    allow_patterns=[\"cos_sim/*.pkl\"],\n",
    "    local_dir='cos/'\n",
    ")\n"
   ]
  },
  {
   "cell_type": "code",
   "execution_count": 9,
   "id": "b5532003-619f-4f19-89b4-a5f04339e5f7",
   "metadata": {},
   "outputs": [],
   "source": [
    "import pickle\n",
    "file_path = 'cos/cos_sim/cos-sim-w-final.pkl'\n",
    "with open(file_path, 'rb') as file:\n",
    "    data = pickle.load(file)"
   ]
  },
  {
   "cell_type": "code",
   "execution_count": null,
   "id": "53327c6a-8ed2-47aa-a443-b701c94086fb",
   "metadata": {},
   "outputs": [
    {
     "name": "stderr",
     "output_type": "stream",
     "text": [
      " 30%|██▉       | 15167/50688 [00:08<00:19, 1839.42it/s]"
     ]
    }
   ],
   "source": [
    "import matplotlib.pyplot as plt\n",
    "import matplotlib.pyplot as plt\n",
    "import numpy as np\n",
    "from tqdm import tqdm\n",
    "\n",
    "steps = [0] + [2**x for x in range(10)] + [x for x in range(1000, 143001, 1000)]\n",
    "selected_steps = [steps[0], steps[len(steps)//4], steps[len(steps)//2], steps[3*len(steps)//4], steps[-1]]\n",
    "selected_indexes = [steps.index(step) for step in selected_steps if step in steps]\n",
    "\n",
    "fig, ax = plt.subplots(figsize=(10, 6))\n",
    "\n",
    "for key, values in tqdm(data.items()):\n",
    "    # remove flagged checkpoints \n",
    "    _ = values.pop(68) \n",
    "    _ = values.pop(60)\n",
    "    ax.plot(values, label=key)  \n",
    "\n",
    "\n",
    "# Set the ticks on the x-axis to be the selected steps\n",
    "plt.xticks(ticks=selected_indexes, labels=[str(step) for step in selected_steps])\n",
    "\n",
    "# Label the axes\n",
    "ax.set_xlabel('Steps', fontsize=12)\n",
    "ax.set_ylabel('Value', fontsize=12)\n",
    "\n",
    "# Show gridlines\n",
    "ax.grid(True)\n",
    "\n",
    "# Show the plot\n",
    "plt.show()\n"
   ]
  },
  {
   "cell_type": "code",
   "execution_count": null,
   "id": "981a5d16-aabb-485e-ae1b-6316d8dd57a4",
   "metadata": {},
   "outputs": [],
   "source": []
  }
 ],
 "metadata": {
  "kernelspec": {
   "display_name": "Python 3 (ipykernel)",
   "language": "python",
   "name": "python3"
  },
  "language_info": {
   "codemirror_mode": {
    "name": "ipython",
    "version": 3
   },
   "file_extension": ".py",
   "mimetype": "text/x-python",
   "name": "python",
   "nbconvert_exporter": "python",
   "pygments_lexer": "ipython3",
   "version": "3.10.13"
  }
 },
 "nbformat": 4,
 "nbformat_minor": 5
}
