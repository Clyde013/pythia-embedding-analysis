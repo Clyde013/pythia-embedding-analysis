{
 "cells": [
  {
   "cell_type": "code",
   "execution_count": 2,
   "id": "f386433e-8f2b-4cb5-90be-430886c30797",
   "metadata": {
    "collapsed": true,
    "jupyter": {
     "outputs_hidden": true
    },
    "scrolled": true
   },
   "outputs": [
    {
     "data": {
      "application/vnd.jupyter.widget-view+json": {
       "model_id": "09e4716a76c94e62979329deb662ac25",
       "version_major": 2,
       "version_minor": 0
      },
      "text/plain": [
       "Fetching 4 files:   0%|          | 0/4 [00:00<?, ?it/s]"
      ]
     },
     "metadata": {},
     "output_type": "display_data"
    },
    {
     "data": {
      "application/vnd.jupyter.widget-view+json": {
       "model_id": "91a98cbd55774612a71f34f3f5cf116f",
       "version_major": 2,
       "version_minor": 0
      },
      "text/plain": [
       "embed_only_110000-143000.pkl:   0%|          | 0.00/35.3G [00:00<?, ?B/s]"
      ]
     },
     "metadata": {},
     "output_type": "display_data"
    },
    {
     "data": {
      "application/vnd.jupyter.widget-view+json": {
       "model_id": "bfa5b528c57540a6ba1ddf944774558f",
       "version_major": 2,
       "version_minor": 0
      },
      "text/plain": [
       "embed_only_30000-69000.pkl:   0%|          | 0.00/41.5G [00:00<?, ?B/s]"
      ]
     },
     "metadata": {},
     "output_type": "display_data"
    },
    {
     "data": {
      "application/vnd.jupyter.widget-view+json": {
       "model_id": "956acff8abde4c5cbcd96d6b9bd90e35",
       "version_major": 2,
       "version_minor": 0
      },
      "text/plain": [
       "embed_only_0-29000.pkl:   0%|          | 0.00/41.5G [00:00<?, ?B/s]"
      ]
     },
     "metadata": {},
     "output_type": "display_data"
    },
    {
     "data": {
      "application/vnd.jupyter.widget-view+json": {
       "model_id": "5c6f3bc03f7c4c4182768585f1ff416e",
       "version_major": 2,
       "version_minor": 0
      },
      "text/plain": [
       "embed_only_70000-109000.pkl:   0%|          | 0.00/41.5G [00:00<?, ?B/s]"
      ]
     },
     "metadata": {},
     "output_type": "display_data"
    },
    {
     "data": {
      "text/plain": [
       "'/here'"
      ]
     },
     "execution_count": 2,
     "metadata": {},
     "output_type": "execute_result"
    }
   ],
   "source": [
    "import pickle\n",
    "from huggingface_hub import snapshot_download, HfApi, Repository\n",
    "\n",
    "snapshot_download(repo_id=\"amphora/pythia-12b-weights\", \n",
    "                  local_dir='here',\n",
    "                  local_dir_use_symlinks=False,\n",
    "                  allow_patterns=\"*.pkl\")\n"
   ]
  },
  {
   "cell_type": "markdown",
   "id": "f23e574e-cc4b-4bb5-940e-11a618451518",
   "metadata": {},
   "source": [
    "### Cos-Sim with Final Embedding"
   ]
  },
  {
   "cell_type": "code",
   "execution_count": 2,
   "id": "7126fb2b-511a-418b-8a1a-c119121c0beb",
   "metadata": {},
   "outputs": [],
   "source": [
    "files = [\n",
    " 'embed_only_0-29000.pkl',\n",
    " 'embed_only_30000-69000.pkl',\n",
    " 'embed_only_70000-109000.pkl',\n",
    " 'embed_only_110000-143000.pkl'\n",
    "]\n",
    "\n",
    "import pickle\n",
    "import numpy as np\n",
    "from scipy.spatial.distance import cosine\n",
    "\n",
    "# Helper function to calculate cosine similarity\n",
    "def calculate_cosine_similarity(vec1, vec2):\n",
    "    return 1 - cosine(vec1, vec2)\n",
    "\n",
    "# Function to load the target embedding\n",
    "def load_target_embedding(target_file, target_embedding_index):\n",
    "    with open(target_file, 'rb') as file:\n",
    "        data = pickle.load(file)\n",
    "    # Assuming the data is a numpy array of shape (50668, 5012)\n",
    "    target_embedding = data[target_embedding_index]  # Ensure this is correct\n",
    "    return target_embedding\n",
    "\n",
    "# Specify the path and target details\n",
    "target_file_path = 'here/embed_only_110000-143000.pkl'\n",
    "target_embedding_index_global = 'step143000'  # Placeholder, adjust as necessary\n",
    "\n",
    "# Load the target embedding\n",
    "target_embedding = load_target_embedding(target_file_path, target_embedding_index_global)"
   ]
  },
  {
   "cell_type": "code",
   "execution_count": 25,
   "id": "73db9d09-dcf8-4752-afc3-e07427e52c36",
   "metadata": {},
   "outputs": [
    {
     "name": "stderr",
     "output_type": "stream",
     "text": [
      "100%|██████████| 40/40 [00:27<00:00,  1.43it/s]\n",
      "100%|██████████| 40/40 [00:29<00:00,  1.35it/s]\n",
      "100%|██████████| 40/40 [00:30<00:00,  1.31it/s]\n",
      "100%|██████████| 34/34 [00:26<00:00,  1.28it/s]\n"
     ]
    }
   ],
   "source": [
    "# Correct initialization of the dictionary for cosine similarities\n",
    "cosine_similarities = {i: [] for i in range(50688)}  # Assuming you want to store for each index\n",
    "\n",
    "# Process each file and calculate cosine similarities\n",
    "for filename in files:\n",
    "    file_path = 'here/' + filename\n",
    "    with open(file_path, 'rb') as file:\n",
    "        data = pickle.load(file)  # Adjust if data structure is different\n",
    "        \n",
    "    # Assuming `data` is a dict with embedding indices as keys and (50668, 5012) arrays as values\n",
    "    for k, emb in tqdm(data.items(),total=len(data)):\n",
    "        for i in range(emb.shape[0]):  # Ensure this loops correctly over your embeddings\n",
    "            word_emb = emb[i, :]\n",
    "            # Calculate and store the cosine similarity\n",
    "            cosine_similarities[i].append(calculate_cosine_similarity(target_embedding[i,:], word_emb))\n"
   ]
  },
  {
   "cell_type": "code",
   "execution_count": 46,
   "id": "e469023d-89ab-4b05-b4eb-4a771baf02cd",
   "metadata": {},
   "outputs": [
    {
     "name": "stdout",
     "output_type": "stream",
     "text": [
      "Dictionary has been saved to cos-sim-w-final.pkl\n"
     ]
    }
   ],
   "source": [
    "import pickle\n",
    "\n",
    "# Specify the file path where you want to save the dictionary\n",
    "file_path = 'cos-sim-w-final.pkl'\n",
    "\n",
    "# Open the file in binary write mode and use pickle.dump() to save the dictionary\n",
    "with open(file_path, 'wb') as file:\n",
    "    pickle.dump(cosine_similarities, file)\n",
    "\n",
    "print(f'Dictionary has been saved to {file_path}')"
   ]
  },
  {
   "cell_type": "code",
   "execution_count": 3,
   "id": "47f04dcd-bbf6-4f7d-87a7-e4f9436693a4",
   "metadata": {},
   "outputs": [
    {
     "name": "stderr",
     "output_type": "stream",
     "text": [
      "39it [00:29,  1.32it/s]\n",
      "40it [00:25,  1.60it/s]\n",
      "41it [00:27,  1.52it/s]\n",
      "36it [00:24,  1.49it/s]\n"
     ]
    }
   ],
   "source": [
    "import pickle\n",
    "import numpy as np\n",
    "from scipy.spatial.distance import cosine\n",
    "from tqdm import tqdm\n",
    "\n",
    "files = [\n",
    " 'embed_only_0-29000.pkl',\n",
    " 'embed_only_30000-69000.pkl',\n",
    " 'embed_only_70000-109000.pkl',\n",
    " 'embed_only_110000-143000.pkl'\n",
    "]\n",
    "\n",
    "# Helper function to calculate cosine similarity\n",
    "def calculate_cosine_similarity(vec1, vec2):\n",
    "    return 1 - cosine(vec1, vec2)\n",
    "\n",
    "# Initialize a structure to store the last embedding of each vocab item for comparison with the first embedding of the same vocab in the next file\n",
    "last_embeddings = {}  # Assuming embeddings are of shape (5012,)\n",
    "\n",
    "# Initialize the dictionary for rolling cosine similarities\n",
    "# The key will be a tuple (vocab_idx, file_idx) for clarity, and the value will be the cosine similarity\n",
    "rolling_cosine_similarities = {i: [] for i in range(50688)}  # Assuming you want to store for each index\n",
    "\n",
    "file_idx = 0  # To keep track of file order\n",
    "for filename in files:\n",
    "    file_path = 'here/' + filename\n",
    "    with open(file_path, 'rb') as file:\n",
    "        data = pickle.load(file)  # Assuming data is a dict or array-like structure with embeddings per vocab\n",
    "\n",
    "    if file_idx > 0:\n",
    "        data = {**last_embeddings, **data}\n",
    "    \n",
    "    keys = list(data.keys())\n",
    "    for idx,key in tqdm(enumerate(keys[:-1])):\n",
    "    \n",
    "        emb = data[key]\n",
    "        next_emb = data[keys[idx+1]]\n",
    "        \n",
    "        for i in range(emb.shape[0]):  # Ensure this loops correctly over your embeddings\n",
    "            word_emb = emb[i, :]\n",
    "            word_emb_next = next_emb[i,:]\n",
    "            # Calculate and store the cosine similarity\n",
    "            rolling_cosine_similarities[i].append(calculate_cosine_similarity(word_emb_next, word_emb))\n",
    "    \n",
    "    \n",
    "            # Update the last_embedding for the current vocab to be the last embedding in the current file\n",
    "    last_embeddings[keys[idx+1]] = data[keys[idx+1]] \n",
    "    file_idx += 1  # Increment file index after processing each file\n"
   ]
  },
  {
   "cell_type": "code",
   "execution_count": 10,
   "id": "9eb28caf-0f1d-41aa-88c6-af24cd948402",
   "metadata": {},
   "outputs": [
    {
     "data": {
      "text/plain": [
       "[<matplotlib.lines.Line2D at 0x7f5f6f8ffe80>]"
      ]
     },
     "execution_count": 10,
     "metadata": {},
     "output_type": "execute_result"
    },
    {
     "data": {
      "image/png": "[encoded data removed]",
      "text/plain": [
       "<Figure size 640x480 with 1 Axes>"
      ]
     },
     "metadata": {},
     "output_type": "display_data"
    }
   ],
   "source": [
    "import matplotlib.pyplot as plt\n",
    "\n",
    "plt.plot(rolling_cosine_similarities[3])"
   ]
  },
  {
   "cell_type": "code",
   "execution_count": null,
   "id": "c1bfa73e-b90c-4b25-b562-19440c4f37d7",
   "metadata": {},
   "outputs": [],
   "source": []
  }
 ],
 "metadata": {
  "kernelspec": {
   "display_name": "Python 3 (ipykernel)",
   "language": "python",
   "name": "python3"
  },
  "language_info": {
   "codemirror_mode": {
    "name": "ipython",
    "version": 3
   },
   "file_extension": ".py",
   "mimetype": "text/x-python",
   "name": "python",
   "nbconvert_exporter": "python",
   "pygments_lexer": "ipython3",
   "version": "3.10.13"
  }
 },
 "nbformat": 4,
 "nbformat_minor": 5
}
